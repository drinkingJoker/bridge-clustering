{
 "cells": [
  {
   "cell_type": "code",
   "execution_count": 1,
   "metadata": {},
   "outputs": [],
   "source": [
    "import scipy.io\n",
    "import numpy as np\n",
    "import cv2\n",
    "from PIL import Image\n",
    "import matplotlib.pyplot as plt\n",
    "from sklearn.preprocessing import StandardScaler"
   ]
  },
  {
   "cell_type": "code",
   "execution_count": 2,
   "metadata": {},
   "outputs": [
    {
     "name": "stdout",
     "output_type": "stream",
     "text": [
      "(154401, 5)\n"
     ]
    }
   ],
   "source": [
    "def create_feature_vectors(image):\n",
    "    \"\"\"\n",
    "    将图像转换为特征向量矩阵。\n",
    "    每个像素点转换为一个5维向量：(R,G,B,x,y)\n",
    "    \"\"\"\n",
    "    # 获取图像尺寸\n",
    "    height, width = image.shape[:2]\n",
    "    \n",
    "    # 创建坐标网格\n",
    "    y_coords, x_coords = np.mgrid[0:height, 0:width]\n",
    "    \n",
    "    # 重塑图像和坐标数组\n",
    "    pixels = image.reshape(-1, 3)  # 将图像重塑为n行3列（RGB值）\n",
    "    x_coords = x_coords.reshape(-1, 1)  # 将坐标重塑为n行1列\n",
    "    y_coords = y_coords.reshape(-1, 1)\n",
    "    \n",
    "    # 组合特征向量\n",
    "    features = np.hstack((pixels, x_coords, y_coords))\n",
    "    \n",
    "    # 标准化特征\n",
    "    scaler = StandardScaler()\n",
    "    features_scaled = scaler.fit_transform(features)\n",
    "    \n",
    "    return features_scaled\n",
    "\n",
    "\n",
    "image_path = \"images\\\\test\\\\2018.jpg\"\n",
    "\n",
    "# 读取图像\n",
    "pil_image = Image.open(image_path)\n",
    "image = np.array(pil_image)\n",
    "image = cv2.cvtColor(image, cv2.COLOR_RGB2BGR)\n",
    "\n",
    "# 创建特征向量\n",
    "features = create_feature_vectors(image)\n",
    "print(features.shape)"
   ]
  },
  {
   "cell_type": "code",
   "execution_count": null,
   "metadata": {},
   "outputs": [],
   "source": [
    "# 读取分割标签\n",
    "mat = scipy.io.loadmat(\"ground_truth\\\\test\\\\2018.mat\")\n",
    "\n",
    "gt = mat['groundTruth'][0]\n",
    "\n",
    "# 获取第一个标注者的分割结果\n",
    "seg = gt[0]['Segmentation'][0,0]\n",
    "print(f\"分割图大小: {seg.shape}\")\n",
    "\n",
    "# 显示所有标注者的标签数量\n",
    "for i in range(len(gt)):\n",
    "    seg = gt[i]['Segmentation'][0,0]\n",
    "    print(f\"\\n标注者 {i+1}:\")\n",
    "    print(f\"唯一标签数量: {len(np.unique(seg))}\")"
   ]
  }
 ],
 "metadata": {
  "kernelspec": {
   "display_name": "abcd",
   "language": "python",
   "name": "python3"
  },
  "language_info": {
   "codemirror_mode": {
    "name": "ipython",
    "version": 3
   },
   "file_extension": ".py",
   "mimetype": "text/x-python",
   "name": "python",
   "nbconvert_exporter": "python",
   "pygments_lexer": "ipython3",
   "version": "3.11.5"
  }
 },
 "nbformat": 4,
 "nbformat_minor": 2
}
